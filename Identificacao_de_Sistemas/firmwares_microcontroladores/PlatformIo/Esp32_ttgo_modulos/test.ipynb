{
 "cells": [
  {
   "cell_type": "code",
   "execution_count": null,
   "metadata": {},
   "outputs": [],
   "source": [
    "map(valorAD_POT, 528., 3235., 0., 180.);"
   ]
  },
  {
   "attachments": {},
   "cell_type": "markdown",
   "metadata": {},
   "source": [
    "### Converter escala\n",
    "\n",
    "+ Escala 1:\n",
    "\n",
    "$$\n",
    "0 - 180 \\\\\n",
    "x_{mim} - x_{max}\n",
    "$$\n",
    "\n",
    "+ Escala 2:\n",
    "\n",
    "$$\n",
    "528 - 3235 \\\\\n",
    "y_{mim} - y_{max}\n",
    "$$\n",
    "\n",
    "Fator de conversão (F):\n",
    "\n",
    "$$\n",
    "F = \\dfrac{x_{mim} - x_{max}}{y_{mim} - y_{max}}\n",
    "$$\n",
    "\n",
    "\n",
    "Agora é possível obter a equação para converter entre as escalas:\n",
    "\n",
    "$$\n",
    "x_{conv} = ((x_{converter} - x_{min}) \\cdot F) + y_{min}\n",
    "$$"
   ]
  },
  {
   "cell_type": "code",
   "execution_count": 8,
   "metadata": {},
   "outputs": [
    {
     "name": "stdout",
     "output_type": "stream",
     "text": [
      "\n",
      "Valor Original  : 180.0\n",
      "Valor Convertido: 3235.0\n",
      "\n",
      "\n",
      "Valor Original  : -180.0\n",
      "Valor Convertido: -3235.0\n",
      "\n",
      "\n",
      "Valor Original  : 90.0\n",
      "Valor Convertido: 1881.5\n",
      "\n",
      "\n",
      "Valor Original  : -90.0\n",
      "Valor Convertido: -1881.5\n",
      "\n"
     ]
    }
   ],
   "source": [
    "def converte_escala(x_converter, x_min, x_max, y_min, pt=False):\n",
    "    if abs(x_converter) > x_max:\n",
    "        m = abs(x_converter) / x_max\n",
    "    else:\n",
    "        m = 1.0\n",
    "    F = (y_min - y_max)/(x_min - x_max)\n",
    "\n",
    "    if x_converter < 0:\n",
    "        if x_converter < -x_max:\n",
    "            x_converter = -x_max\n",
    "        x_conv = m*(((x_converter - x_min)*F) - y_min)\n",
    "    else:\n",
    "        if x_converter > x_max:\n",
    "            x_converter = x_max\n",
    "        x_conv = m*(((x_converter - x_min)*F) + y_min)\n",
    "\n",
    "    if pt:\n",
    "        print(f\"\\nValor Original  : {m*x_converter}\")\n",
    "        print(f\"Valor Convertido: {x_conv}\\n\")\n",
    "    return x_conv\n",
    "\n",
    "\n",
    "x_min = 0.; x_max = 180.\n",
    "y_min = 528.; y_max = 3235.\n",
    "\n",
    "\n",
    "converte_escala(180, x_min=x_min, x_max=x_max, y_min=y_min, pt=True);\n",
    "converte_escala(-180, x_min=x_min, x_max=x_max, y_min=y_min, pt=True);\n",
    "\n",
    "converte_escala(180/2, x_min=x_min, x_max=x_max, y_min=y_min, pt=True);\n",
    "converte_escala(-90, x_min=x_min, x_max=x_max, y_min=y_min, pt=True);"
   ]
  },
  {
   "cell_type": "code",
   "execution_count": 111,
   "metadata": {},
   "outputs": [
    {
     "data": {
      "text/plain": [
       "1881.5"
      ]
     },
     "execution_count": 111,
     "metadata": {},
     "output_type": "execute_result"
    }
   ],
   "source": [
    "(12940.0/8) + (y_min/2)"
   ]
  },
  {
   "attachments": {},
   "cell_type": "markdown",
   "metadata": {},
   "source": [
    "## Conversão de Leitura Digital para Ângulo"
   ]
  },
  {
   "cell_type": "code",
   "execution_count": 41,
   "metadata": {},
   "outputs": [
    {
     "name": "stdout",
     "output_type": "stream",
     "text": [
      "\n",
      "Valor Original  : 8718.0\n",
      "Valor Convertido: 540.0\n",
      "\n",
      "\n",
      "Valor Original  : -7662.0\n",
      "Valor Convertido: -540.0\n",
      "\n",
      "\n",
      "Valor Original  : 4623.0\n",
      "Valor Convertido: 270.0\n",
      "\n",
      "\n",
      "Valor Original  : -3567.0\n",
      "Valor Convertido: -270.0\n",
      "\n",
      "\n",
      "Valor Original  : 2575.5\n",
      "Valor Convertido: 135.0\n",
      "\n",
      "\n",
      "Valor Original  : -1519.5\n",
      "Valor Convertido: -135.0\n",
      "\n"
     ]
    }
   ],
   "source": [
    "def converte_escala(x_converter, x_min, x_max, y_min, offset, pt=False):\n",
    "    if abs(x_converter) > x_max:\n",
    "        m = abs(x_converter) / x_max\n",
    "    else:\n",
    "        m = 1.0\n",
    "    F = (y_min - y_max)/(x_min - x_max)\n",
    "\n",
    "    if x_converter < x_min:\n",
    "        if x_converter < -x_max:\n",
    "            x_converter = -x_max\n",
    "        x_conv = m*(((x_converter - x_min)*F) - y_min)\n",
    "    else:\n",
    "        if x_converter > x_max:\n",
    "            x_converter = x_max\n",
    "        x_conv = m*(((x_converter - x_min)*F) + y_min)\n",
    "    \n",
    "    con_offset = ((offset - x_min)*F) + y_min\n",
    "    x_conv = x_conv - con_offset\n",
    "\n",
    "    if pt:\n",
    "        print(f\"\\nValor Original  : {m*x_converter}\")\n",
    "        print(f\"Valor Convertido: {x_conv}\\n\")\n",
    "    return x_conv\n",
    "\n",
    "\n",
    "x_min = 0.; x_max = 4095.\n",
    "y_min = 0.; y_max = 270.\n",
    "\n",
    "converte_escala(2*4095+528, x_min=x_min, x_max=x_max, y_min=y_min, offset=528, pt=True);\n",
    "converte_escala(-2*4095+528, x_min=x_min, x_max=x_max, y_min=y_min, offset=528, pt=True);\n",
    "\n",
    "converte_escala(4095+528, x_min=x_min, x_max=x_max, y_min=y_min, offset=528, pt=True);\n",
    "converte_escala(-4095+528, x_min=x_min, x_max=x_max, y_min=y_min, offset=528, pt=True);\n",
    "\n",
    "converte_escala(4095/2+528, x_min=x_min, x_max=x_max, y_min=y_min, offset=528, pt=True);\n",
    "converte_escala(-4095/2+528, x_min=x_min, x_max=x_max, y_min=y_min, offset=528, pt=True);"
   ]
  },
  {
   "cell_type": "code",
   "execution_count": 34,
   "metadata": {},
   "outputs": [
    {
     "name": "stdout",
     "output_type": "stream",
     "text": [
      "23.20879120879121\n"
     ]
    }
   ],
   "source": [
    "x_min = 0.; x_max = 4095.\n",
    "y_min = 0.; y_max = 180.\n",
    "\n",
    "F = (y_min - y_max)/(x_min - x_max)\n",
    "\n",
    "offset = 528\n",
    "\n",
    "print(((offset - x_min)*F) + y_min)"
   ]
  },
  {
   "cell_type": "code",
   "execution_count": 101,
   "metadata": {},
   "outputs": [
    {
     "name": "stdout",
     "output_type": "stream",
     "text": [
      "Fator de convefrsão: 15.03888888888889\n",
      "x conv: 1881.5\n"
     ]
    },
    {
     "data": {
      "text/plain": [
       "1881.5"
      ]
     },
     "execution_count": 101,
     "metadata": {},
     "output_type": "execute_result"
    }
   ],
   "source": [
    "x_min = 0.; x_max = 180.\n",
    "y_min = 528.; y_max = 3235.\n",
    "\n",
    "F = (y_min - y_max)/(x_min - x_max)\n",
    "print(f\"Fator de convefrsão: {F}\")\n",
    "x_converter = 90\n",
    "print(f\"x conv: {F*90+y_min}\")\n",
    "(((x_converter - x_min)*F) + y_min)"
   ]
  },
  {
   "cell_type": "code",
   "execution_count": 32,
   "metadata": {},
   "outputs": [],
   "source": [
    "import numpy as np"
   ]
  },
  {
   "cell_type": "code",
   "execution_count": 40,
   "metadata": {},
   "outputs": [
    {
     "data": {
      "image/png": "[encoded data removed]",
      "text/plain": [
       "<Figure size 1000x500 with 1 Axes>"
      ]
     },
     "metadata": {},
     "output_type": "display_data"
    }
   ],
   "source": [
    "angulos = np.arange(-10*x_max, 10*x_max, 0.2)\n",
    "ang_mod = []\n",
    "t = []\n",
    "cont = 0\n",
    "for i in angulos:\n",
    "    ang_mod.append(converte_escala(i, x_min=x_min, x_max=x_max, y_min=y_min, offset=528))\n",
    "    t.append(cont)\n",
    "    cont += 1\n",
    "\n",
    "import matplotlib.pyplot as plt\n",
    "\n",
    "plt.figure(figsize=(10, 5))\n",
    "# plt.plot(t, angulos, color=\"r\")\n",
    "plt.plot(t, ang_mod, color=\"b\")\n",
    "plt.grid()\n",
    "plt.show()"
   ]
  }
 ],
 "metadata": {
  "kernelspec": {
   "display_name": "Python 3",
   "language": "python",
   "name": "python3"
  },
  "language_info": {
   "codemirror_mode": {
    "name": "ipython",
    "version": 3
   },
   "file_extension": ".py",
   "mimetype": "text/x-python",
   "name": "python",
   "nbconvert_exporter": "python",
   "pygments_lexer": "ipython3",
   "version": "3.10.8"
  },
  "orig_nbformat": 4
 },
 "nbformat": 4,
 "nbformat_minor": 2
}
