{
 "cells": [
  {
   "attachments": {},
   "cell_type": "markdown",
   "metadata": {},
   "source": [
    "# <center> Modelagem Motor CC Série <center/>"
   ]
  },
  {
   "attachments": {},
   "cell_type": "markdown",
   "metadata": {},
   "source": [
    "Os motores CC série tem como principal característica possuir o enrolamento de campo em série com o enrolamento de armadora, essa configuração resulta em um motor com torque de partida alto, porém, o torque reduz a medida que a velocidade aumenta devido ao aumento da Força Eletromotriz FEM. Por conda desse aumento de FEM os motores CC Séries tem uma regulação de velocidade ruim, quando se aumenta a carga no eixo do motor a velocidade é reduzida que por sua vez reduz a FEM e então o torque aumenta para conseguir atuar na carga.\n",
    "\n",
    "No entanto, mesmo motores cc série com dimensões reduzidas geram torques altos com baixo consumo de corrente. Visando melhorar seu desempenho, é possível projetar controladores de malha fechada capazes de tornar esses motores mais eficientes na questão da regulação de sua velocidade.\n",
    "\n",
    "A Figura 1 mostra uma diagrama da configuração do motor CC Série, em que o enrolamento de campo está conectado em série com o enrolamento de armadura, dessa forma, a  corrente de campo é igual a corrente de armadura $\\bf i = i_c = i_a$."
   ]
  },
  {
   "attachments": {},
   "cell_type": "markdown",
   "metadata": {},
   "source": [
    "<center>\n",
    "<div class=\"figure\" >\n",
    "  <img src=\"utils/esquema_motorcc.png\"\n",
    "       width=\"300\"> \n",
    "  <p>Figura 1 - Motor CC Série.</p>\n",
    "</div>\n",
    "<center/>"
   ]
  },
  {
   "attachments": {},
   "cell_type": "markdown",
   "metadata": {},
   "source": [
    "Na Figura 2, mostra o diagrama eletromecânico do do Motor CC Série, nele podemos observar que os componentes elétricos estão todos em série, em que o enrolamento de campo possui uma parte resistiva e outra indutiva, assim como o enrolamento de armadura, já a parte mecânica possui uma velocidade angular dada por $\\bf \\dot{\\theta}$, torque eletromagnético do motor dado por $\\bf T_e$ e torque da Carga $\\bf T_c$."
   ]
  },
  {
   "attachments": {},
   "cell_type": "markdown",
   "metadata": {},
   "source": [
    "<center>\n",
    "<div class=\"figure\" >\n",
    "  <img src=\"utils/diagrama_motorcc.png\"\n",
    "       width=\"300\"> \n",
    "  <p>Figura 2 - Diagrama Elétrico/Mecânico Motor CC Série.</p>\n",
    "</div>\n",
    "<center/>"
   ]
  },
  {
   "attachments": {},
   "cell_type": "markdown",
   "metadata": {},
   "source": [
    "---\n",
    "\n",
    "## Modelagem da Parte Mecânica do Motor CC Série"
   ]
  },
  {
   "attachments": {},
   "cell_type": "markdown",
   "metadata": {},
   "source": [
    "Primeiramente vamos modelar a parte mecânica do motor, o motor tem uma parte rotativa \"armadura\", essa parte rotativa tem um momento de inércia do eixo do motor $J$ e um fator de amortecimento viscoso $b$, além disso, o eixo tem uma velocidade angular $\\bf \\dot{\\theta}$.\n",
    "\n",
    "Assim, a equação que descreve o modelo mecânico do motor CC Série e dados, por:\n",
    "\n",
    "$$\n",
    "\\begin{align*}\n",
    "    J\\ddot{\\theta}(t) &= T_e(t) - b\\dot{\\theta}(t) - T_c(t) \\tag{1}\\\\\n",
    "    T_e(t) &= J\\ddot{\\theta}(t) + b\\dot{\\theta}(t) + T_c(t) \\tag{2}\n",
    "\\end{align*}\n",
    "$$\n",
    "\n",
    "Onde:\n",
    "\n",
    ">> + $\\bf T_e$: Torque Eletromagnético produzido pelo Motor\n",
    ">> + $\\bf J$: Momento de Inércia do Eixo do Motor\n",
    ">> + $\\bf \\ddot{\\theta}$: Aceleração Angular do Eixo do Motor\n",
    ">> + $\\bf \\dot{\\theta}$: Velocidade Angular do Eixo do Motor\n",
    ">> + $\\bf b$: Fator de Amortecimento Viscoso\n",
    ">> + $\\bf T_c$: Torque de Carga"
   ]
  },
  {
   "attachments": {},
   "cell_type": "markdown",
   "metadata": {},
   "source": [
    "Tanto a Força Eletromotriz $\\bf E_A(t)$ quanto o Torque Eletromagnético $\\bf T_e(t)$ dependem do fluxo magnético do entreferro $\\bf \\Phi$, assim, temos as seguintes equações:\n",
    "\n",
    "$$\n",
    "\\begin{align}\n",
    "    E_a(t) &= \\dot{\\theta}(t) \\Phi{(i)} \\tag{3}\\\\\n",
    "    T_e(t) &= i(t) \\Phi{(i)} \\tag{4}\n",
    "\\end{align}\n",
    "$$"
   ]
  },
  {
   "attachments": {},
   "cell_type": "markdown",
   "metadata": {},
   "source": [
    "O Fluxo magnético depende da corrente $\\bf i(t)$, assim, a equação $\\bf (1)$ é não-linear. Além disso, podemos aproximar o fluxo por uma relação linear $\\bf K_0$ quando se despreza a saturação magnética.\n",
    "\n",
    "$$\n",
    "\\begin{align}\n",
    "    \\Phi(i) &= K_0 i(t) \\tag{5}\n",
    "\\end{align}\n",
    "$$\n",
    "\n",
    "A constante $\\bf K_0$ é a indutância mútua entre a armadura e o enrolamento de campo."
   ]
  },
  {
   "attachments": {},
   "cell_type": "markdown",
   "metadata": {},
   "source": [
    "Agora podemos encontrar o modelo não-linear da parte mecânica do Motor CC Série, substituindo $\\bf (5)$ em $\\bf (4)$, temos:\n",
    "\n",
    "$$\n",
    "\\begin{align}\n",
    "    T_e(t) &= i(t) K_0 i(t) \\tag{6}\\\\\n",
    "    T_e(t) &= K_0 i^2(t) \\tag{7}\n",
    "\\end{align}\n",
    "$$\n"
   ]
  },
  {
   "attachments": {},
   "cell_type": "markdown",
   "metadata": {},
   "source": [
    "Substituindo $\\bf (7)$ em $\\bf (2)$, encontramos a modelo da parte mecânica do motor.\n",
    "\n",
    "$$\n",
    "\\begin{align*}\n",
    "    K_0 i^2(t) &= J\\ddot{\\theta}(t) + b\\dot{\\theta}(t) + T_c(t) \\tag{8}\n",
    "\\end{align*}\n",
    "$$\n",
    "\n",
    "<br>"
   ]
  },
  {
   "attachments": {},
   "cell_type": "markdown",
   "metadata": {},
   "source": [
    "### Modelagem da Parte Elétrica do Motor CC Série"
   ]
  },
  {
   "attachments": {},
   "cell_type": "markdown",
   "metadata": {},
   "source": [
    "Para a parte elétrica, vamos usar a lei de Kirchhoff das tensões, como foi dito o motor é um motor CC série, assim, $i_a = i_f$, aplicando Kirchhoff para modelar o sistema elétrico, temos:\n",
    "\n",
    "\n",
    "$$\n",
    "\\begin{align}\n",
    "    V(t) &= (R_a + R_f)i(t)+ (L_a + L_f)\\frac{d}{dt}i(t) + E_a \\tag{9}\n",
    "\\end{align}\n",
    "$$\n",
    "\n",
    "Onde:\n",
    "\n",
    ">> + $V$: Tensão da Fonte\n",
    ">> + $R_a$: Resistência da Armadura\n",
    ">> + $R_f$: Resistência de Campo\n",
    ">> + $i_a$: Corrente da Armadura\n",
    ">> + $i_f$: Corrente de Campo\n",
    ">> + $E_A$: Tensão Contro Eletromotriz Gerada pela Armadura\n",
    ">> + $L_a$: Impedância da Armadura\n",
    ">> + $L_f$: Impedância de Campo\n"
   ]
  },
  {
   "attachments": {},
   "cell_type": "markdown",
   "metadata": {},
   "source": [
    "Como temos os componentes elétricos em série, podemos obter uma resistencia total assim como uma indutância:\n",
    "\n",
    "$$\n",
    "\\begin{align}\n",
    "R &= R_a + R_f          \\tag{10}\\\\        \n",
    "L &= L_a + L_f          \\tag{11}\n",
    "\\end{align}\n",
    "$$\n",
    "\n",
    "$$\n",
    "\\begin{align}\n",
    "    V(t) &= Ri(t)+ L\\frac{d}{dt}i(t) + E_a \\tag{12}\n",
    "\\end{align}\n",
    "$$\n"
   ]
  },
  {
   "attachments": {},
   "cell_type": "markdown",
   "metadata": {},
   "source": [
    "Substituindo $(5)$ em $(3)$\n",
    "\n",
    "$$\n",
    "\\begin{align}\n",
    "    E_a(t) &= \\dot{\\theta}(t)K_0 i(t) \\tag{13}\n",
    "\\end{align}\n",
    "$$"
   ]
  },
  {
   "attachments": {},
   "cell_type": "markdown",
   "metadata": {},
   "source": [
    "Agora podemos encontrar a equação de movimento da parte elétrica do sistema ao substituir $(13)$ em $(12)$:\n",
    "\n",
    "$$\n",
    "\\begin{align}\n",
    "    V(t) &= Ri(t)+ L\\frac{d}{dt}i(t) + \\dot{\\theta}(t)K_0 i(t) \\tag{14}\n",
    "\\end{align}\n",
    "$$"
   ]
  },
  {
   "attachments": {},
   "cell_type": "markdown",
   "metadata": {},
   "source": [
    "### Equações do Modelo do Motor CC Série\n",
    "$$\n",
    "\\begin{align}\n",
    "    V(t) &= Ri(t)+ L\\frac{d}{dt}i(t) + \\dot{\\theta}(t)K_0 i(t) \\tag{15}\\\\\n",
    "    K_0 i^2(t) &= J\\ddot{\\theta}(t) + b\\dot{\\theta}(t) + T_c(t) \\tag{16}\n",
    "\\end{align}\n",
    "$$"
   ]
  },
  {
   "attachments": {},
   "cell_type": "markdown",
   "metadata": {},
   "source": [
    "---"
   ]
  },
  {
   "attachments": {},
   "cell_type": "markdown",
   "metadata": {},
   "source": [
    "## Linearização do Modelo"
   ]
  },
  {
   "attachments": {},
   "cell_type": "markdown",
   "metadata": {},
   "source": [
    "Para projetos de controle lineares é preciso linearizar o sistema, para isso, vamos reorganizar as equações $(15)$ e $(16)$ como mostrado abaixo:\n",
    "\n",
    "$$\n",
    "\\begin{align}\n",
    "    \\ddot{\\theta}(t) &= \\frac{K_0}{J} i^2(t) - \\frac{b}{J}\\dot{\\theta}(t) - \\frac{1}{J}T_c(t) \\tag{17}\\\\\n",
    "    \\frac{d}{dt}i(t) &= \\frac{R}{L}i(t)- \\frac{K_0}{L}\\dot{\\theta}(t)i(t) +\\frac{1}{L}V(t) \\tag{18}\n",
    "\\end{align}\n",
    "$$"
   ]
  },
  {
   "attachments": {},
   "cell_type": "markdown",
   "metadata": {},
   "source": [
    "Podemos reescrever as equações de estados na forma matricial,\n",
    "\n",
    "$$\n",
    "\\begin{align*}\n",
    "    x_1 = \\dot{\\theta}\\\\\n",
    "    x_2 = i\n",
    "\\end{align*}\n",
    "$$\n",
    "\n",
    "+ Coeficientes da equação de estado $(17)$\n",
    "\n",
    "$$a_1 = \\frac{K_0}{J}; \\quad a_2 = \\frac{b}{J}; \\quad a_3 = \\frac{1}{J}$$\n",
    "\n",
    "+ Coeficientes da equação de estado $(18)$\n",
    "\n",
    "$$b_1 = \\frac{R}{L}; \\quad b_2 = \\frac{K_0}{L}; \\quad b_3 = \\frac{1}{L}$$"
   ]
  },
  {
   "attachments": {},
   "cell_type": "markdown",
   "metadata": {},
   "source": [
    "Representação no espaço de estados do motor CC Série não-linear\n",
    "\n",
    "$$\n",
    "\\begin{align*}\n",
    "    \\dot{x_1} &= a_1x_2^2  - a_2x_1 -a_3T_c \\tag{19}\\\\\n",
    "    \\dot{x_2} &= -b_1x_2  -b_2x_1x_2 + b_3V  \\tag{20}\n",
    "\\end{align*}\n",
    "$$\n",
    "\n",
    "\n",
    "$$\n",
    "\\begin{align*}\n",
    "\\dot{x} = \\begin{bmatrix}\n",
    "    \\dot{x_1}\\\\\n",
    "    \\dot{x_2}\n",
    "\\end{bmatrix} = \n",
    "\\begin{bmatrix}\n",
    "    a_1x_2^2 -a_2x_1 -a_3T_c \\\\\n",
    "    -b_1x_2 -b_2x_1x_2 + b_3V\n",
    "\\end{bmatrix} = f(x, u)             \\tag{21}\n",
    "\\end{align*}\n",
    "$$"
   ]
  }
 ],
 "metadata": {
  "kernelspec": {
   "display_name": "Python 3",
   "language": "python",
   "name": "python3"
  },
  "language_info": {
   "name": "python",
   "version": "3.10.8 (main, Oct 16 2022, 01:00:03) [GCC 9.4.0]"
  },
  "orig_nbformat": 4,
  "vscode": {
   "interpreter": {
    "hash": "e7370f93d1d0cde622a1f8e1c04877d8463912d04d973331ad4851f04de6915a"
   }
  }
 },
 "nbformat": 4,
 "nbformat_minor": 2
}
