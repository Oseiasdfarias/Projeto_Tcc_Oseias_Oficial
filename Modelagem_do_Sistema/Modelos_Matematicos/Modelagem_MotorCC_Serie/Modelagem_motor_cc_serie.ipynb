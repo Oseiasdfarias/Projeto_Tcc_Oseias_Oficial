{
 "cells": [
  {
   "attachments": {},
   "cell_type": "markdown",
   "metadata": {},
   "source": [
    "# <center> Modelagem Motor CC Série <center/>"
   ]
  },
  {
   "attachments": {},
   "cell_type": "markdown",
   "metadata": {},
   "source": [
    "Os motores CC série tem como principal característica possuir o enrolamento de campo em série com o enrolamento de armadora, essa configuração resulta em um motor com torque de partida alto, porém, o torque reduz a medida que a velocidade aumenta devido o aumento da Força Eletromotriz FEM. Por conda desse aumento de FEM os motores CC Séries tem uma regulação de velocidade ruim, quando se aumenta a carga no eixo do motor a velocidade é reduzida que por sua vez reduz a FEM e então o torque aumenta para conseguir atuar na carga.\n",
    "\n",
    "No entanto, motores cc série geram torque altos com baixo consumo de corrente e com dimensões sua estrutura pequena. Visando melhorar seu desempenho, é possível projetar controladores de malha fechada capazes de tornar esses motores mais eficientes na questão da regulação de sua velocidade.\n",
    "\n",
    "A Figura 1 mostra uma diagrama da configuração do motor CC Série, em que o enrolamento de campo está conectado em série com o enrolamento de armadura, dessa forma, a  corrente de campo é igual a corrente de armadura $\\bf i = i_c = i_a$."
   ]
  },
  {
   "attachments": {},
   "cell_type": "markdown",
   "metadata": {},
   "source": [
    "<center>\n",
    "<div class=\"figure\" >\n",
    "  <img src=\"utils/esquema_motorcc.png\"\n",
    "       width=\"300\"> \n",
    "  <p>Figura 1 - Motor CC Série.</p>\n",
    "</div>\n",
    "<center/>"
   ]
  },
  {
   "attachments": {},
   "cell_type": "markdown",
   "metadata": {},
   "source": [
    "Na Figura 2, mostra o diagrama eletromecânico do do Motor CC Série, nele podemos observar que os componentes elétricos estão todos em série, em que o enrolamento de campo possui uma parte resistiva e outra indutiva, assim como o enrolamento de armadura, já a parte mecânica possui uma velocidade angular dada por $\\bf \\dot{\\theta}$, o torque eletromagnético do motor dado por $\\bf T_e$ e o torque da Carga $\\bf T_c$."
   ]
  },
  {
   "attachments": {},
   "cell_type": "markdown",
   "metadata": {},
   "source": [
    "<center>\n",
    "<div class=\"figure\" >\n",
    "  <img src=\"utils/diagrama_motorcc.png\"\n",
    "       width=\"300\"> \n",
    "  <p>Figura 2 - Diagrama Elétrico/Mecânico Motor CC Série.</p>\n",
    "</div>\n",
    "<center/>"
   ]
  },
  {
   "attachments": {},
   "cell_type": "markdown",
   "metadata": {},
   "source": [
    "---\n",
    "\n",
    "## Modelagem da Parte Mecânica do Motor CC Série"
   ]
  },
  {
   "attachments": {},
   "cell_type": "markdown",
   "metadata": {},
   "source": [
    "Primeiramente vamos modelar a parte mecânica do motor, o motor tem uma parte rotativa \"armadura\", essa parte rotativa tem um momento de inércia do eixo do motor $J$ e um fator de amortecimento viscoso $b$, além disso, o eixo tem uma velocidade angular $\\bf \\dot{\\theta}$.\n",
    "\n",
    "Assim, a equação que descreve o modelo mecânico do motor CC Série e dados, por:\n",
    "\n",
    "$$\n",
    "\\begin{align*}\n",
    "    J\\ddot{\\theta}(t) &= T_e(t) - b\\dot{\\theta}(t) - T_c(t) \\tag{1}\\\\\n",
    "    T_e(t) &= J\\ddot{\\theta}(t) + b\\dot{\\theta}(t) + T_c(t) \\tag{2}\n",
    "\\end{align*}\n",
    "$$\n",
    "\n",
    "Onde:\n",
    "\n",
    ">> + $\\bf T_e$: Torque Eletromagnético produzido pelo Motor\n",
    ">> + $\\bf J$: Momento de Inércia do Eixo do Motor\n",
    ">> + $\\bf \\ddot{\\theta}$: Aceleração Angular do Eixo do Motor\n",
    ">> + $\\bf \\dot{\\theta}$: Velocidade Angular do Eixo do Motor\n",
    ">> + $\\bf b$: Fator de Amortecimento Viscoso\n",
    ">> + $\\bf T_c$: Torque de Carga"
   ]
  },
  {
   "attachments": {},
   "cell_type": "markdown",
   "metadata": {},
   "source": [
    "Tanto a Força Eletromotriz $\\bf E_A(t)$ quanto o Torque Eletromagnético $\\bf T_e(t)$ dependem do fluxo magnético do entreferro $\\bf \\Phi$, assim, temos as seguintes equações:\n",
    "\n",
    "$$\n",
    "\\begin{align}\n",
    "    E_a(t) &= \\dot{\\theta}(t) + \\Phi{(i)} \\tag{3}\\\\\n",
    "    T_e(t) &= i(t) + \\Phi{(i)} \\tag{4}\n",
    "\\end{align}\n",
    "$$"
   ]
  },
  {
   "attachments": {},
   "cell_type": "markdown",
   "metadata": {},
   "source": [
    "O Fluxo magnético depende da corrente $\\bf i(t)$, assim, a equação $\\bf (1)$ é não-linear. Além disso, podemos aproximar o fluxo por uma relação linear $\\bf K_0$ quando se despreza a saturação magnética.\n",
    "\n",
    "$$\n",
    "\\begin{align}\n",
    "    \\Phi(i) &= K_0 i(t) \\tag{5}\n",
    "\\end{align}\n",
    "$$\n",
    "\n",
    "A constante $\\bf K_0$ é a indutância mútua entre a armadura enrolamento de campo.\n"
   ]
  },
  {
   "attachments": {},
   "cell_type": "markdown",
   "metadata": {},
   "source": [
    "Agora podemos encontrar o modelo não-linear da parte mecânica do Motor CC Série, substituindo $\\bf (5)$ em $\\bf (4)$, temos:\n",
    "\n",
    "$$\n",
    "\\begin{align}\n",
    "    T_e(t) &= i(t) + K_0 i(t) \\tag{6}\\\\\n",
    "    T_e(t) &= K_0 i^2(t) \\tag{7}\n",
    "\\end{align}\n",
    "$$\n"
   ]
  },
  {
   "attachments": {},
   "cell_type": "markdown",
   "metadata": {},
   "source": [
    "Substituindo $\\bf (7)$ em $\\bf (2)$, encontramos a modelo da parte mecânica do motor.\n",
    "\n",
    "$$\n",
    "\\begin{align*}\n",
    "    K_0 i^2(t) &= J\\ddot{\\theta}(t) + b\\dot{\\theta}(t) + T_c(t) \\tag{8}\n",
    "\\end{align*}\n",
    "$$\n",
    "\n",
    "<br>"
   ]
  },
  {
   "attachments": {},
   "cell_type": "markdown",
   "metadata": {},
   "source": [
    "### Modelagem da Parte Elétrica do Motor CC Série"
   ]
  }
 ],
 "metadata": {
  "kernelspec": {
   "display_name": "Python 3",
   "language": "python",
   "name": "python3"
  },
  "language_info": {
   "name": "python",
   "version": "3.10.8 (main, Oct 16 2022, 01:00:03) [GCC 9.4.0]"
  },
  "orig_nbformat": 4,
  "vscode": {
   "interpreter": {
    "hash": "e7370f93d1d0cde622a1f8e1c04877d8463912d04d973331ad4851f04de6915a"
   }
  }
 },
 "nbformat": 4,
 "nbformat_minor": 2
}
