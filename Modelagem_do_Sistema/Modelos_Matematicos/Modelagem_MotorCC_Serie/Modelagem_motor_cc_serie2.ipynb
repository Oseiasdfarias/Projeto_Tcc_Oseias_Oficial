{
 "cells": [
  {
   "attachments": {},
   "cell_type": "markdown",
   "metadata": {},
   "source": [
    "# <center> Modelagem Motor CC Série <center/>"
   ]
  },
  {
   "cell_type": "markdown",
   "metadata": {},
   "source": []
  },
  {
   "attachments": {},
   "cell_type": "markdown",
   "metadata": {},
   "source": [
    "### Equação de Movimento"
   ]
  },
  {
   "attachments": {},
   "cell_type": "markdown",
   "metadata": {},
   "source": [
    "Primeiramente vamos modelar a parte mecânica do motor, o motor tem uma parte rotativa \"armadura\", essa parte rotativa tem um momento de inércia do eixo do motor $J$ e um fator de amortecimento viscoso $b$, além disso, o eixo tem uma velocidade angular $\\dot{\\theta}$.\n",
    "\n",
    "Assim, a equação que descreve o modelo mecânico do motor CC Série e dados, por:\n",
    "\n",
    "$$\n",
    "\\begin{align}\n",
    "    J\\ddot{\\theta} &= T - b\\dot{\\theta}\n",
    "\\end{align}\n",
    "$$\n",
    "\n",
    "Onde:\n",
    "\n",
    ">> + $J$: Momento de Inércia do Eixo do Motor\n",
    ">> + $T$: Torque do Motor\n",
    ">> + $\\ddot{\\theta}$: Aceleração Angular do Eixo do Motor\n",
    ">> + $\\dot{\\theta}$: Velocidade Angular do Eixo do Motor\n",
    ">> + $b$: Fator de Amortecimento Viscoso"
   ]
  },
  {
   "attachments": {},
   "cell_type": "markdown",
   "metadata": {},
   "source": [
    "Para a parte elétrica, vamos usar a lei de Kirchhoff das tensões, como foi dito o motor é um motor CC série, usanod Kirchhoff para modelar o sistema elétrico, temos:\n",
    "\n",
    "\n",
    "$$\n",
    "\\begin{align}\n",
    "    V &= RI + E_A + L\\frac{di}{dt}\n",
    "\\end{align}\n",
    "$$\n",
    "\n",
    "Onde:\n",
    "\n",
    ">> + $V$: Tensão da Fonte\n",
    ">> + $R$: Resistência Interna do Motor\n",
    ">> + $I$: Corrente do Circuito\n",
    ">> + $E_A$: Tensão Contro Eletromotriz Gerada pela Armadura\n",
    ">> + $L$: Impedância do Enrrolamento\n"
   ]
  },
  {
   "attachments": {},
   "cell_type": "markdown",
   "metadata": {},
   "source": [
    "Considerando que a dinâmica da parte mecânica é mais dominânte que a parte elétrica, podemos simplificar a equação, assim temos:\n",
    "\n",
    "$$\n",
    "\\begin{align}\n",
    "    V &= RI + E_A\n",
    "\\end{align}\n",
    "$$"
   ]
  },
  {
   "attachments": {},
   "cell_type": "markdown",
   "metadata": {},
   "source": [
    "Encontradas as equações que descreve tanto a parte mecânica quanto a elétrica, combinar as equuações para podemos encontrar a função de transferência do sistema.\n",
    "Mas antes, devemos encontrar uma relação entra as variáveis de cada subsistema, para isso vamos usar as seguintes relações:\n",
    "\n",
    "\n",
    "$$\n",
    "\\begin{align}\n",
    "    E_A &= K\\phi\\dot{\\theta}\\\\\n",
    "    \\dot{E_A} &= K\\phi\\ddot{\\theta}\\\\\n",
    "    T &= K\\phi i\n",
    "\\end{align}\n",
    "$$\n",
    "\n",
    "Onde:\n",
    "\n",
    ">> + $E_A$: Tensão Contro Eletromotriz Gerada pela Armadura\n",
    ">> + $\\dot{\\theta}$: Velocidade Angular do Eixo do Motor\n",
    ">> + $T$: Torque do Motor\n",
    ">> + $K$: Constante de Força Contra Eletromotriz\n",
    ">> + $\\phi$: Fluxo Magnético dos Pólos do Estator\n",
    ">> + $I$: Corrente do Circuito\n"
   ]
  },
  {
   "attachments": {},
   "cell_type": "markdown",
   "metadata": {},
   "source": [
    "#### Combinando as Equações"
   ]
  },
  {
   "attachments": {},
   "cell_type": "markdown",
   "metadata": {},
   "source": [
    "Equação 1:\n",
    "\n",
    "$$\n",
    "\\begin{align}\n",
    "    T &= J\\ddot{\\theta} + b\\dot{\\theta}\\\\\n",
    "    K\\phi i &= J\\ddot{\\theta} + b\\dot{\\theta}\\\\\n",
    "    i &= \\frac{J\\ddot{\\theta} + b\\dot{\\theta}}{K\\phi }\n",
    "\\end{align}\n",
    "$$\n",
    "\n",
    "Equação 2:\n",
    "$$\n",
    "\\begin{align}\n",
    "    E_A &= K\\phi\\dot{\\theta}\\\\\n",
    "\\end{align}\n",
    "$$"
   ]
  },
  {
   "attachments": {},
   "cell_type": "markdown",
   "metadata": {},
   "source": [
    "Substituindo $i$ na equação da parte elétrica, temos:\n",
    "\n",
    "$$\n",
    "\\begin{align}\n",
    "    V &= R \\left(\\frac{J\\ddot{\\theta} + b\\dot{\\theta}}{K\\phi }\\right) + E_A\\\\\n",
    "    V &= \\frac{RJ\\ddot{\\theta}}{K\\phi } + \\frac{b\\dot{\\theta}}{K\\phi } + E_A\\\\\n",
    "    V &= \\frac{RJ\\ddot{\\theta}}{K\\phi } + \\frac{b\\dot{\\theta}}{K\\phi } + K\\phi\\dot{\\theta}\n",
    "\\end{align}\n",
    "$$\n",
    "\n",
    "Simplificando:\n",
    "\n",
    "$$\n",
    "\\begin{align}\n",
    "    V &= \\frac{RJ\\ddot{\\theta}}{k\\phi } + \\frac{b\\dot{\\theta}}{k\\phi } + K\\phi\\dot{\\theta}\\\\\n",
    "    \\frac{K\\phi}{RJ} V &= \\ddot{\\theta} + \\frac{b}{J}\\dot{\\theta} + \\frac{K\\phi}{RJ} K\\phi\\dot{\\theta}\\\\\n",
    "    \\frac{K\\phi}{RJ} V &= \\ddot{\\theta} + \\frac{b}{J}\\dot{\\theta} + \\frac{(K\\phi)^2}{RJ}\\dot{\\theta}\\\\\n",
    "    \\frac{K\\phi}{RJ} V &= \\ddot{\\theta} + \\left(\\frac{b}{J} + \\frac{(K\\phi)^2}{RJ}\\right)\\dot{\\theta}\n",
    "\\end{align}\n",
    "$$\n",
    "\n",
    "Simplificando a notação,\n",
    "\n",
    "$$M = \\frac{K\\phi}{RJ}$$\n",
    "$$N = \\left(\\frac{b}{J} + \\frac{(K\\phi)^2}{RJ}\\right)$$\n",
    "\n",
    "Assim, temos:\n",
    "\n",
    "$$\n",
    "\\begin{align}\n",
    "    MV &= \\ddot{\\theta} + N\\dot{\\theta}\n",
    "\\end{align}\n",
    "$$\n",
    "\n",
    "Aplicando a Transformada de Laplace, temos:\n",
    "\n",
    "$$\n",
    "\\begin{align}\n",
    "    MV(s) = s^2\\theta (s) + sN\\theta (s)\\\\\n",
    "    \\frac{\\theta (s)}{V(s)} = \\frac{M}{s^2 + Ns}\n",
    "\\end{align} \n",
    "$$\n"
   ]
  },
  {
   "attachments": {},
   "cell_type": "markdown",
   "metadata": {},
   "source": [
    "#### Exemplo numérico"
   ]
  },
  {
   "cell_type": "code",
   "execution_count": 1,
   "metadata": {},
   "outputs": [],
   "source": [
    "import matplotlib.pyplot as plt\n",
    "import numpy as np\n",
    "import control as ct"
   ]
  },
  {
   "attachments": {},
   "cell_type": "markdown",
   "metadata": {},
   "source": [
    "Parâmetros do Motor CC Série"
   ]
  },
  {
   "cell_type": "code",
   "execution_count": 17,
   "metadata": {},
   "outputs": [],
   "source": [
    "K = 0.767\n",
    "b = 4e-6\n",
    "J = 3.87e-7\n",
    "phi = 1\n",
    "R = 5\n"
   ]
  },
  {
   "cell_type": "code",
   "execution_count": 18,
   "metadata": {},
   "outputs": [
    {
     "name": "stdout",
     "output_type": "stream",
     "text": [
      "Valor de M: 5.9365800000000006e-08\n",
      "Valor de N: 10.335917358195067\n"
     ]
    }
   ],
   "source": [
    "M = K*phi/R*J\n",
    "N = (b/J)+((K*phi)**2/R*J)\n",
    "\n",
    "print(f\"Valor de M: {M}\")\n",
    "print(f\"Valor de N: {N}\")"
   ]
  }
 ],
 "metadata": {
  "kernelspec": {
   "display_name": "Python 3",
   "language": "python",
   "name": "python3"
  },
  "language_info": {
   "codemirror_mode": {
    "name": "ipython",
    "version": 3
   },
   "file_extension": ".py",
   "mimetype": "text/x-python",
   "name": "python",
   "nbconvert_exporter": "python",
   "pygments_lexer": "ipython3",
   "version": "3.10.8 (main, Oct 16 2022, 01:00:03) [GCC 9.4.0]"
  },
  "orig_nbformat": 4,
  "vscode": {
   "interpreter": {
    "hash": "e7370f93d1d0cde622a1f8e1c04877d8463912d04d973331ad4851f04de6915a"
   }
  }
 },
 "nbformat": 4,
 "nbformat_minor": 2
}
