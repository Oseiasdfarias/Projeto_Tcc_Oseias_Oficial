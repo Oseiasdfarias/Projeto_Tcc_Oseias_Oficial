{
 "cells": [
  {
   "attachments": {},
   "cell_type": "markdown",
   "metadata": {},
   "source": [
    "# <center> Modelagem Matemática do Aeropêndulo <center/>"
   ]
  },
  {
   "cell_type": "markdown",
   "metadata": {},
   "source": [
    "> referencia: A New Approach to Control A Driven Pendulum with PID Method\n"
   ]
  },
  {
   "attachments": {},
   "cell_type": "markdown",
   "metadata": {},
   "source": [
    "Os sistemas físicos tem como principal característica os graus liberdade,da sigla em inglês 6DoF - (Six degrees of freedom) que em português que dizer (Seis graus de liberdade), com esses seis graus de liberdade é possível mover a planta em todas as direções e ângulos, o aeropêndulo tem um grau de liberdade, sendo o ângulo $\\theta$, assim o sistema tem apenas uma variável a ser controlada a partir do empuxo gerado pelas hélices que por sua vez depende da velocidade angular do eixo do motor CC Série acoplado ao braço do aeropêndulo. dessa forma, podemos analisar o sistema a partir da entrada e da saída, sendo a entrada a tensão no motor e a saída o ângulo $\\theta$ do braço do aeropêndulo.\n",
    "\n",
    "Portanto, podemos dividir o sistema em dois subsistema, o motor CC Série e o braço do aeropêndulo. para o motor CC Série, já foi realizado a modelagem na sessão anterior, para essa sessão será realizada a modelagem do braço do aeropêndulo."
   ]
  },
  {
   "attachments": {},
   "cell_type": "markdown",
   "metadata": {},
   "source": [
    "<center>\n",
    "<div class=\"figure\" >\n",
    "  <img src=\"utils/aeropendulo.png\"\n",
    "       width=\"400\"> \n",
    "  <p>Figura 1 - Diagrama esquemático do Aeropêndulo.</p>\n",
    "</div>\n",
    "<center/>"
   ]
  },
  {
   "attachments": {},
   "cell_type": "markdown",
   "metadata": {},
   "source": [
    "O modelo matemático do braço do aeropêndulo é derivado a partir das leis de Newton e momentos angulares, como mostra $[xx]$. assim, se obtém a equação a seguir.\n",
    "\n",
    "$$\n",
    "\\begin{align}\n",
    "    F_e &= J\\ddot{\\theta} + c\\dot{\\theta} +mgd\\sin{\\theta} \\tag{1}\\\\\n",
    "\\end{align}\n",
    "$$\n",
    "\n",
    "\n",
    "Onde:\n",
    "\n",
    ">> + $F_e$: Empuxo gerado pela hélice\n",
    ">> + $J$: Momento de inércia\n",
    ">> + $\\theta$: posição angular do Aeropêndulo\n",
    ">> + $c$: coeficiente de amortecimento viscoso\n",
    ">> + $m$: peso do Aeropêndulo\n",
    ">> + $d$: a distância entre o centro de massa e o ponto de pivô"
   ]
  },
  {
   "attachments": {},
   "cell_type": "markdown",
   "metadata": {},
   "source": [
    "A entrada do subsistema do braço do aeropêndulo é a força de empuxo proporcionada pela hélice, porém, o modelo do motor CC Série tem como saída a velocidade angular, dessa forma é preciso encontrar uma relação entre a velocidade $\\dot{\\omega}$ e o empuxo $F_e$, essa relação é não linear como mostra $[xx]$, $F_e = K_m\\dot{\\omega}^2$, porém é possível aproximar por uma relação linear,  $F_e = K_m\\dot{\\omega}$. Com isso, pode-se relacionar a velocidade angular $\\dot{\\omega}$  com o empuxo gerado pela hélice do aeropêndulo."
   ]
  },
  {
   "attachments": {},
   "cell_type": "markdown",
   "metadata": {},
   "source": [
    "O modelo encontrado tem uma parcela não linear dada por $\\sin{\\theta}$, para aplicar técnicas de projeto de controle é preciso obter o modelo linearizado da planta, isso pode ser feito considerando $\\sin{\\theta} \\approx \\theta$ para pequenas variações em torno de $\\theta$. dessa forma, temos a seguinte linearização:\n",
    "\n",
    "$$\n",
    "\\begin{align}\n",
    "    F_e &= J\\ddot{\\theta} + c\\dot{\\theta} +mgd\\theta \\tag{2}\\\\\n",
    "\\end{align}\n",
    "$$"
   ]
  },
  {
   "cell_type": "markdown",
   "metadata": {},
   "source": [
    "\n",
    "Aplicando a transformada de Laplace para encontrar a função de transferência do subsistema, temos:\n",
    "\n",
    "$$\n",
    "\\begin{align}\n",
    "    F_e(s) &= s^2J\\theta(s) + sc\\theta(s) +mgd\\theta(s) \\tag{4}\\\\\n",
    "    F_e(s) &= (s^2J + sc +mgd)\\theta(s) \\tag{5}\\\\\n",
    "    \\dfrac{\\theta(s)}{F_e(s)} &= \\frac{1}{s^2J + sc +mgd} \\tag{6}\n",
    "\\end{align}\n",
    "$$"
   ]
  },
  {
   "cell_type": "markdown",
   "metadata": {},
   "source": [
    "Agora que foi obtedo o modelo do braço do aeropêndulo, pode-se usar a relação linearizada $F_e = K_m\\dot{\\omega}$ para usar a saída do modelo do motor cc serie na entrada o braço, como mostra a equação [XX].\n",
    "\n",
    "$$F_e = K_m\\dot{\\omega}$$\n",
    "\n",
    "$$\n",
    "\\begin{align}\n",
    "    \\dfrac{\\theta(s)}{K_m\\dot{\\omega}(s)} &= \\dfrac{1}{s^2J + sc +mgd} \\tag{6}\\\\\n",
    "    \\dfrac{\\theta(s)}{\\dot{\\omega}(s)} &= \\dfrac{K_m}{s^2J + sc +mgd} \\tag{6}\n",
    "\\end{align}\n",
    "$$\n",
    "\n",
    "$$\n",
    "\\begin{align}\n",
    "    \\dfrac{\\theta(s)}{\\dot{\\omega}(s)} &= \\dfrac{\\dfrac{K_m}{J}}{s^2 + s\\dfrac{c}{J} +\\dfrac{mgd}{J}} \\tag{7}\\\\\n",
    "\\end{align}\n",
    "$$"
   ]
  }
 ],
 "metadata": {
  "kernelspec": {
   "display_name": "Python 3",
   "language": "python",
   "name": "python3"
  },
  "language_info": {
   "name": "python",
   "version": "3.8.10"
  },
  "orig_nbformat": 4,
  "vscode": {
   "interpreter": {
    "hash": "916dbcbb3f70747c44a77c7bcd40155683ae19c65e1c03b4aa3499c5328201f1"
   }
  }
 },
 "nbformat": 4,
 "nbformat_minor": 2
}
