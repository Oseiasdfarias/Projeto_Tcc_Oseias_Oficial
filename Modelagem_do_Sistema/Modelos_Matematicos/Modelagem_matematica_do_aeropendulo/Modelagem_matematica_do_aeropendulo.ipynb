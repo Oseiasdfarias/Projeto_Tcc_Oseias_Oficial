{
 "cells": [
  {
   "attachments": {},
   "cell_type": "markdown",
   "metadata": {},
   "source": [
    "# <center> Modelagem Matemática do Aeropêndulo <center/>"
   ]
  },
  {
   "attachments": {},
   "cell_type": "markdown",
   "metadata": {},
   "source": [
    "Os sistemas físicos tem como principal característica os graus liberdade,da sigra em inglês 6DoF - (Six degrees of freedom) que em português que dizer (Seis graus de liberdade), com esses seis graus de liberdade é possível mover a planta em todas as direções e ângulos, o aeropêndulo tem um grau de liberdade, sendo o ângulo $\\theta$, assim o sistema tem apenas uma variável a ser controlada a partir o empuxo gerado pelas hélices que por sua vez depende a velocidade angular do eixo do motor CC Série acoplado ao braço do aeropêndulo. dessa forma, podemos analisar o sistema a partir da entrada e da saida, sendo a entrada a tensão no motor e a saída o ângulo $\\theta$ do braço do aeropêndulo.\n",
    "\n",
    "dessa forma, podemos dividir o sistema em dois subsistema, o motor CC Série e o Aeropêndulo. para o motor CC Série, já foi realizado a modelagem na sessão anterior, para essa sessão será realizada a modelagem do aeropêndulo."
   ]
  },
  {
   "attachments": {},
   "cell_type": "markdown",
   "metadata": {},
   "source": [
    "<center>\n",
    "<div class=\"figure\" >\n",
    "  <img src=\"utils/aeropendulo.png\"\n",
    "       width=\"400\"> \n",
    "  <p>Figura 1 - Diagrama esquemático do Aeropêndulo.</p>\n",
    "</div>\n",
    "<center/>"
   ]
  },
  {
   "attachments": {},
   "cell_type": "markdown",
   "metadata": {},
   "source": [
    "A entrada do subsistema do aeropêndulo é a força de empuxo proporcionada pela hélice, porém, o modelo do motor CC Série tem como saída a velocidade angular, dessa forma é preciso encontrar uma relação entre a velocidade $\\dot{\\theta}$ e o empuxo $F_e$, essa relação é não linear como mostra $[xx]$, $F_e = K_n\\dot{\\theta}^2$, porém é possível aproximar por uma relação linear,  $F_e = K_n\\dot{\\theta}$. Com isso, pode-se relacionar a velocidade angular com o ângulo $\\psi$ do braço do aeropêndulo."
   ]
  },
  {
   "attachments": {},
   "cell_type": "markdown",
   "metadata": {},
   "source": [
    "O modelo matemático é derivado a partir das leis de Newton e momentos angulares, como mostra $[xx]$. assim, se tem a equação a seguir.\n",
    "\n",
    "$$\n",
    "\\begin{align}\n",
    "    T &= J\\ddot{\\psi} + c\\dot{\\psi} +mgd\\sin{\\psi} \\tag{1}\\\\\n",
    "\\end{align}\n",
    "$$\n",
    "\n",
    "\n",
    "Onde:\n",
    "\n",
    ">> + $T$: Empuxo gerado pela hélice $T = F_e$\n",
    ">> + $J$: Momento de inércia\n",
    ">> + $\\psi$: posição angular do Aeropêndulo\n",
    ">> + $c$: coeficiente de amortecimento viscoso\n",
    ">> + $m$: peso do Aeropêndulo\n",
    ">> + $d$: a distância entre o centro de massa e o ponto de pivô"
   ]
  },
  {
   "attachments": {},
   "cell_type": "markdown",
   "metadata": {},
   "source": [
    "O modelo encontrado tem uma parcela não linear dada por $\\sin{\\psi}$, para aplicar técnicas de projeto de controle é preciso obter o modelo linear da planta, isso pode ser feito considerando $\\sin{\\psi} \\approx \\psi$ para pequenas variações em torno de $\\psi$. dessa forma, temos a seguinte linearização:\n",
    "\n",
    "$$\n",
    "\\begin{align}\n",
    "    T &= J\\ddot{\\psi} + c\\dot{\\psi} +mgd\\psi \\tag{2}\\\\\n",
    "\\end{align}\n",
    "$$"
   ]
  }
 ],
 "metadata": {
  "kernelspec": {
   "display_name": "Python 3",
   "language": "python",
   "name": "python3"
  },
  "language_info": {
   "name": "python",
   "version": "3.8.10 (default, Nov 14 2022, 12:59:47) \n[GCC 9.4.0]"
  },
  "orig_nbformat": 4,
  "vscode": {
   "interpreter": {
    "hash": "916dbcbb3f70747c44a77c7bcd40155683ae19c65e1c03b4aa3499c5328201f1"
   }
  }
 },
 "nbformat": 4,
 "nbformat_minor": 2
}
