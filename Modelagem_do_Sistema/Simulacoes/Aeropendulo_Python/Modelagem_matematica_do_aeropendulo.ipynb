{
 "cells": [
  {
   "attachments": {},
   "cell_type": "markdown",
   "metadata": {},
   "source": [
    "# <center>Modelagem e Simulação do Aeropêndulo<center/>"
   ]
  },
  {
   "attachments": {},
   "cell_type": "markdown",
   "metadata": {},
   "source": [
    "<center>\n",
    "<div class=\"figure\" >\n",
    "  <img src=\"utils/aeropendulo.png\"\n",
    "       width=\"400\"> \n",
    "  <p>Figura 1 - Diagrama esquemático do Aeropêndulo.</p>\n",
    "</div>\n",
    "<center/>"
   ]
  },
  {
   "attachments": {},
   "cell_type": "markdown",
   "metadata": {},
   "source": [
    "Usando as leis de Newton e momentos angulares podemos encontrar o modelo matemático que descreve a dinâmica do aeropêndulo, assim, temos a equação $(1)$ que modela o sistema em questão.\n",
    "\n",
    "$$\n",
    "\\begin{align}\n",
    "    T &= J\\ddot{\\theta} + c\\dot{\\theta} +mgd\\sin{\\theta} \\tag{1}\\\\\n",
    "\\end{align}\n",
    "$$\n",
    "\n",
    "\n",
    "Onde:\n",
    "\n",
    ">> + $T$: Empuxo gerado pela hélice;\n",
    ">> + $J$: Momento de inércia;\n",
    ">> + $\\theta$: posição angular do Aeropêndulo;\n",
    ">> + $c$: coeficiente de amortecimento viscoso;\n",
    ">> + $m$: peso do Aeropêndulo;\n",
    ">> + $d$: a distância entre o centro de massa e o ponto de pivô;"
   ]
  },
  {
   "attachments": {},
   "cell_type": "markdown",
   "metadata": {},
   "source": [
    "Linearizando o sistema"
   ]
  },
  {
   "attachments": {},
   "cell_type": "markdown",
   "metadata": {},
   "source": [
    "Uma das técnicas de linearização quando se tem sistemas não lineares que a componente não linear é o seno ou cosseno é  considerar o seno ou cosseno sendo o valor do próprio ângulo, isso funciona bem para pequenas variações em torno do ângulo, aplicando essa técnica ao modelo do aeropêndulo, temos a equação $(2)$.\n",
    "\n",
    "$$\n",
    "\\begin{align}\n",
    "    T &= J\\ddot{\\theta} + c\\dot{\\theta} +mgd\\theta \\tag{2}\\\\\n",
    "\\end{align}\n",
    "$$"
   ]
  },
  {
   "attachments": {},
   "cell_type": "markdown",
   "metadata": {},
   "source": [
    "Aplicando a transformada de Laplace, temos:\n",
    "\n",
    "$$\n",
    "\\begin{align}\n",
    "    T(s) &= s^2J\\theta(s) + sc\\theta(s) +mgd\\theta(s) \\tag{3}\\\\\n",
    "    T(s) &= (s^2J + sc +mgd)\\theta(s) \\tag{4}\\\\\n",
    "    \\frac{\\theta(s)}{T(s)} &= \\frac{1}{s^2J + sc +mgd} \\tag{5}\\\\\n",
    "    \\frac{\\theta(s)}{T(s)} &= \\frac{1/J}{s^2 + sc/J +mgd/J} \\tag{6}\\\\\n",
    "\\end{align}\n",
    "$$"
   ]
  },
  {
   "attachments": {},
   "cell_type": "markdown",
   "metadata": {},
   "source": [
    "Queremos controlar o ângulo do braço do aeropêndulo  a partir da tensão aplicada aos terminais do motor, assim,devemos encontrar uma relação entre a tensão $V$ nos terminais do motor e o empuxo $T$ gerado pela hélice, essa relação é não linear, porém é possível aproximar por uma relação linear, como mostra a expressão $(7)$.\n",
    "\n",
    "$$\n",
    "\\begin{align}\n",
    "    T &\\approx K_mV \\tag{7}\\\\\n",
    "\\end{align}\n",
    "$$\n",
    "\n",
    "Aplicando a transformada de Laplace, temos:\n",
    "\n",
    "$$\n",
    "\\begin{align}\n",
    "    T(s) &\\approx K_mV(s) \\tag{8}\\\\\n",
    "\\end{align}\n",
    "$$"
   ]
  },
  {
   "attachments": {},
   "cell_type": "markdown",
   "metadata": {},
   "source": [
    "Agora podemos substituir $(8)$ em $(6)$,\n",
    "\n",
    "$$\n",
    "\\begin{align}\n",
    "    \\frac{\\theta(s)}{K_mV(s)} &= \\frac{1/J}{s^2 + sc/J +mgd/J} \\tag{9}\\\\\n",
    "    \\frac{\\theta(s)}{V(s)} &= \\frac{K_m/J}{s^2 + sc/J +mgd/J} \\tag{10}\n",
    "\\end{align}\n",
    "$$"
   ]
  },
  {
   "attachments": {},
   "cell_type": "markdown",
   "metadata": {},
   "source": [
    "### Sistema no Espaço de Estados"
   ]
  },
  {
   "attachments": {},
   "cell_type": "markdown",
   "metadata": {},
   "source": [
    "##### Forma Canônica de Controlador"
   ]
  },
  {
   "attachments": {},
   "cell_type": "markdown",
   "metadata": {},
   "source": [
    "$$\n",
    "    x_1=\\theta \\quad x_2=\\dot{\\theta} \\quad x_2 = \\dot{x_1}\n",
    "$$\n",
    "\n",
    "\n",
    "$$\n",
    "\\begin{bmatrix}\n",
    "    \\dot{x}_1 \\\\\n",
    "    \\dot{x}_2\n",
    "\\end{bmatrix}=\n",
    "\\begin{bmatrix}\n",
    "    0             & 1\\\\\n",
    "    -\\frac{mgd}{J} & -\\frac{c}{J}\n",
    "\\end{bmatrix}\\cdot \n",
    "\\begin{bmatrix}\n",
    "    x_1 \\\\\n",
    "    x_2\n",
    "\\end{bmatrix}+\n",
    "\\begin{bmatrix}\n",
    "    0 \\\\\n",
    "    \\frac{K_m}{J}\n",
    "\\end{bmatrix}\\cdot u\n",
    "$$\n",
    "\n",
    "$$\n",
    "Y= \\begin{bmatrix}\n",
    "    1 & 0\n",
    "\\end{bmatrix} \\cdot\n",
    "\\begin{bmatrix}\n",
    "    0 \\\\\n",
    "    \\frac{K_m}{J}\n",
    "\\end{bmatrix} + 0\n",
    "$$"
   ]
  },
  {
   "attachments": {},
   "cell_type": "markdown",
   "metadata": {},
   "source": [
    "#### Parâmetros para Simulação"
   ]
  },
  {
   "attachments": {},
   "cell_type": "markdown",
   "metadata": {},
   "source": [
    "$$\n",
    "\\begin{array}{|c|c|} \\hline\n",
    "\\text { Parâmetros do Aeropêndulo } & \\text{Valores}      \\\\ \\hline\n",
    "K_m     &   0,0296                                        \\\\ \\hline\n",
    "d       &   0,03m                                         \\\\ \\hline\n",
    "J       &   0,0106 Kgm^2                                  \\\\ \\hline\n",
    "m       &   0,36 m                                  \\\\ \\hline\n",
    "g       &   9,8 m/s^2                                     \\\\ \\hline\n",
    "c       &   0,0076 Nms/rad                                \\\\ \\hline\n",
    "\\end{array}\n",
    "$$"
   ]
  },
  {
   "attachments": {},
   "cell_type": "markdown",
   "metadata": {},
   "source": [
    "### Simulação usando Python"
   ]
  },
  {
   "cell_type": "code",
   "execution_count": 24,
   "metadata": {},
   "outputs": [],
   "source": [
    "import numpy as np\n",
    "import matplotlib.pyplot as plt\n",
    "import control as ct\n",
    "\n",
    "plt.style.use(\"ggplot\")"
   ]
  },
  {
   "attachments": {},
   "cell_type": "markdown",
   "metadata": {},
   "source": [
    "Parâmetros"
   ]
  },
  {
   "cell_type": "code",
   "execution_count": 25,
   "metadata": {},
   "outputs": [],
   "source": [
    "K_m = 0.0296\n",
    "m = 0.36\n",
    "d = 0.03\n",
    "J = 0.0106\n",
    "g = 9.8\n",
    "c = 0.0076"
   ]
  },
  {
   "attachments": {},
   "cell_type": "markdown",
   "metadata": {},
   "source": [
    "Matrizes do sistema no espaço de estados"
   ]
  },
  {
   "cell_type": "code",
   "execution_count": 26,
   "metadata": {},
   "outputs": [],
   "source": [
    "A = np.array([[0, 1],\n",
    "              [-(m*g*d)/J, -(c/J)]])\n",
    "\n",
    "B = np.array([[0, K_m/J]]).T\n",
    "\n",
    "C = np.array([1, 0])\n",
    "\n",
    "D = 0\n"
   ]
  },
  {
   "attachments": {},
   "cell_type": "markdown",
   "metadata": {},
   "source": [
    "### Sistema no Espaço de Estados"
   ]
  },
  {
   "cell_type": "code",
   "execution_count": 27,
   "metadata": {},
   "outputs": [
    {
     "name": "stdout",
     "output_type": "stream",
     "text": [
      "<LinearIOSystem>: sys[18]\n",
      "Inputs (1): ['u[0]']\n",
      "Outputs (1): ['y[0]']\n",
      "States (2): ['x[0]', 'x[1]']\n",
      "\n",
      "A = [[ 0.          1.        ]\n",
      "     [-9.98490566 -0.71698113]]\n",
      "\n",
      "B = [[0.        ]\n",
      "     [2.79245283]]\n",
      "\n",
      "C = [[1. 0.]]\n",
      "\n",
      "D = [[0.]]\n",
      "\n"
     ]
    }
   ],
   "source": [
    "sys = ct.ss(A, B, C, D)\n",
    "print(sys)"
   ]
  },
  {
   "cell_type": "markdown",
   "metadata": {},
   "source": [
    "Função de Transferência a partir do espaço de estados"
   ]
  },
  {
   "cell_type": "code",
   "execution_count": 28,
   "metadata": {},
   "outputs": [
    {
     "data": {
      "text/latex": [
       "$$\\frac{2.792}{s^2 + 0.717 s + 9.985}$$"
      ],
      "text/plain": [
       "TransferFunction(array([2.79245283]), array([1.        , 0.71698113, 9.98490566]))"
      ]
     },
     "execution_count": 28,
     "metadata": {},
     "output_type": "execute_result"
    }
   ],
   "source": [
    "Gs = ct.ss2tf(sys)\n",
    "Gs"
   ]
  },
  {
   "attachments": {},
   "cell_type": "markdown",
   "metadata": {},
   "source": [
    "Informações do sistema em malha aberta"
   ]
  },
  {
   "cell_type": "code",
   "execution_count": 29,
   "metadata": {},
   "outputs": [
    {
     "data": {
      "text/plain": [
       "{'RiseTime': 0.396481513738416,\n",
       " 'SettlingTime': 10.308519357198815,\n",
       " 'SettlingMin': 0.14343794449344063,\n",
       " 'SettlingMax': 0.47415111647086844,\n",
       " 'Overshoot': 69.54106137593485,\n",
       " 'Undershoot': 0,\n",
       " 'Peak': 0.47415111647086844,\n",
       " 'PeakTime': 1.0308519357198815,\n",
       " 'SteadyStateValue': 0.2796674225245654}"
      ]
     },
     "execution_count": 29,
     "metadata": {},
     "output_type": "execute_result"
    }
   ],
   "source": [
    "ct.step_info(sys)"
   ]
  },
  {
   "cell_type": "code",
   "execution_count": 39,
   "metadata": {},
   "outputs": [
    {
     "name": "stdout",
     "output_type": "stream",
     "text": [
      "_____Eigenvalue______ Damping___ Frequency_\n",
      "   -0.3585    +3.139j     0.1135       3.16\n",
      "   -0.3585    -3.139j     0.1135       3.16\n"
     ]
    }
   ],
   "source": [
    "ct.damp(sys);"
   ]
  },
  {
   "cell_type": "code",
   "execution_count": 37,
   "metadata": {},
   "outputs": [
    {
     "data": {
      "text/plain": [
       "array([-0.35849057+3.13948884j, -0.35849057-3.13948884j])"
      ]
     },
     "execution_count": 37,
     "metadata": {},
     "output_type": "execute_result"
    }
   ],
   "source": [
    "ct.poles(sys)"
   ]
  },
  {
   "cell_type": "code",
   "execution_count": 36,
   "metadata": {},
   "outputs": [
    {
     "data": {
      "text/plain": [
       "array([], dtype=float64)"
      ]
     },
     "execution_count": 36,
     "metadata": {},
     "output_type": "execute_result"
    }
   ],
   "source": [
    "ct.zeros(sys)"
   ]
  },
  {
   "attachments": {},
   "cell_type": "markdown",
   "metadata": {},
   "source": [
    "Resposta ao Degrau Unitário"
   ]
  },
  {
   "cell_type": "code",
   "execution_count": 35,
   "metadata": {},
   "outputs": [
    {
     "data": {
      "image/png": "[encoded data removed]",
      "text/plain": [
       "<Figure size 600x350 with 1 Axes>"
      ]
     },
     "metadata": {},
     "output_type": "display_data"
    }
   ],
   "source": [
    "t, yout = ct.step_response(Gs)\n",
    "\n",
    "fig, ax = plt.subplots(figsize=(6, 3.5))\n",
    "ax.set_title(\"Aeropêndulo em Malha Aberta\")\n",
    "ax.set_ylabel(\"Ângulo (rad)\")\n",
    "ax.set_xlabel(\"Tempo (s)\")\n",
    "ax.plot(t, yout)\n",
    "plt.show()"
   ]
  }
 ],
 "metadata": {
  "kernelspec": {
   "display_name": "Python 3",
   "language": "python",
   "name": "python3"
  },
  "language_info": {
   "codemirror_mode": {
    "name": "ipython",
    "version": 3
   },
   "file_extension": ".py",
   "mimetype": "text/x-python",
   "name": "python",
   "nbconvert_exporter": "python",
   "pygments_lexer": "ipython3",
   "version": "3.10.8"
  },
  "orig_nbformat": 4,
  "vscode": {
   "interpreter": {
    "hash": "e7370f93d1d0cde622a1f8e1c04877d8463912d04d973331ad4851f04de6915a"
   }
  }
 },
 "nbformat": 4,
 "nbformat_minor": 2
}
