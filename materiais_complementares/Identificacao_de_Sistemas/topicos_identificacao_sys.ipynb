{
 "cells": [
  {
   "attachments": {},
   "cell_type": "markdown",
   "metadata": {},
   "source": [
    "## Identificação de Sistemas\n",
    "\n",
    "## Identificação do Aeropêndulo\n",
    "\n",
    "### Controle Adaptativo\n",
    "\n",
    "criar um Pepiline que identifica o sistema para determinado ângulo e criar o controlador especifico para o sistema identificado, após isso, implementa o controle no sistema.\n",
    "\n",
    "O controle é definido para cada ângulo, ou seja, para  cada valor angular lido pelo sensor *potenciômetro*, o algorítimo de identificação de sistema é executado e obtém os parâmetros da função de transferência, a partir disso, outro algorítimo cria o controlador para o sistema, e aplica ao sistema esse controle.\n",
    "\n",
    "ou seja, o sistema de controle se ajusta ao novo sistema identificado, dessa forma, é possível controlar o aeropêndulo para diferentes ângulos."
   ]
  }
 ],
 "metadata": {
  "language_info": {
   "name": "python"
  },
  "orig_nbformat": 4
 },
 "nbformat": 4,
 "nbformat_minor": 2
}
